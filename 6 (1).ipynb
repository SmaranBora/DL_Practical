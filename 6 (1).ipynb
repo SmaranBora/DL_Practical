{
  "nbformat": 4,
  "nbformat_minor": 0,
  "metadata": {
    "colab": {
      "provenance": [],
      "gpuType": "T4"
    },
    "kernelspec": {
      "name": "python3",
      "display_name": "Python 3"
    },
    "language_info": {
      "name": "python"
    },
    "accelerator": "GPU"
  },
  "cells": [
    {
      "cell_type": "code",
      "execution_count": 1,
      "metadata": {
        "colab": {
          "base_uri": "https://localhost:8080/"
        },
        "id": "Dv7nFwNJ_ePe",
        "outputId": "a6c7fcb8-4108-436c-a3ba-819e51d438dd"
      },
      "outputs": [
        {
          "output_type": "stream",
          "name": "stdout",
          "text": [
            "Requirement already satisfied: kagglehub in /usr/local/lib/python3.10/dist-packages (0.3.3)\n",
            "Requirement already satisfied: packaging in /usr/local/lib/python3.10/dist-packages (from kagglehub) (24.1)\n",
            "Requirement already satisfied: requests in /usr/local/lib/python3.10/dist-packages (from kagglehub) (2.32.3)\n",
            "Requirement already satisfied: tqdm in /usr/local/lib/python3.10/dist-packages (from kagglehub) (4.66.6)\n",
            "Requirement already satisfied: charset-normalizer<4,>=2 in /usr/local/lib/python3.10/dist-packages (from requests->kagglehub) (3.4.0)\n",
            "Requirement already satisfied: idna<4,>=2.5 in /usr/local/lib/python3.10/dist-packages (from requests->kagglehub) (3.10)\n",
            "Requirement already satisfied: urllib3<3,>=1.21.1 in /usr/local/lib/python3.10/dist-packages (from requests->kagglehub) (2.2.3)\n",
            "Requirement already satisfied: certifi>=2017.4.17 in /usr/local/lib/python3.10/dist-packages (from requests->kagglehub) (2024.8.30)\n"
          ]
        }
      ],
      "source": [
        "pip install kagglehub"
      ]
    },
    {
      "cell_type": "code",
      "source": [
        "import kagglehub\n",
        "\n",
        "# Download latest version\n",
        "path = kagglehub.dataset_download(\"athota1/caltech101\")\n",
        "\n",
        "print(\"Path to dataset files:\", path)"
      ],
      "metadata": {
        "colab": {
          "base_uri": "https://localhost:8080/"
        },
        "id": "iapk6MFBAZ03",
        "outputId": "b6ca4dac-6477-43b4-adc5-9657205ee953"
      },
      "execution_count": 2,
      "outputs": [
        {
          "output_type": "stream",
          "name": "stdout",
          "text": [
            "Downloading from https://www.kaggle.com/api/v1/datasets/download/athota1/caltech101?dataset_version_number=1...\n"
          ]
        },
        {
          "output_type": "stream",
          "name": "stderr",
          "text": [
            "100%|██████████| 262M/262M [00:13<00:00, 19.9MB/s]"
          ]
        },
        {
          "output_type": "stream",
          "name": "stdout",
          "text": [
            "Extracting files...\n"
          ]
        },
        {
          "output_type": "stream",
          "name": "stderr",
          "text": [
            "\n"
          ]
        },
        {
          "output_type": "stream",
          "name": "stdout",
          "text": [
            "Path to dataset files: /root/.cache/kagglehub/datasets/athota1/caltech101/versions/1\n"
          ]
        }
      ]
    },
    {
      "cell_type": "code",
      "source": [
        "import os\n",
        "\n",
        "# Verify the contents of the dataset folder\n",
        "dataset_dir = os.path.join(path, '101_ObjectCategories')\n",
        "print(os.listdir(dataset_dir))  # Check if the folder contains class subdirectories\n"
      ],
      "metadata": {
        "colab": {
          "base_uri": "https://localhost:8080/"
        },
        "id": "G-HX95c5Af62",
        "outputId": "8ef032dc-7baf-456a-b3da-0180691a73ce"
      },
      "execution_count": 3,
      "outputs": [
        {
          "output_type": "stream",
          "name": "stdout",
          "text": [
            "['camera', 'rhino', 'wild_cat', 'windsor_chair', 'sunflower', 'revolver', 'watch', 'dollar_bill', 'garfield', 'schooner', 'stop_sign', 'stapler', 'chandelier', 'pizza', 'okapi', 'joshua_tree', 'brain', 'cup', 'flamingo', 'scorpion', 'metronome', 'Faces_easy', 'menorah', 'kangaroo', 'bonsai', 'brontosaurus', 'airplanes', 'Faces', 'euphonium', 'beaver', 'flamingo_head', 'crocodile', 'stegosaurus', 'strawberry', 'helicopter', 'sea_horse', 'ferry', 'grand_piano', 'octopus', 'Motorbikes', 'dalmatian', 'lobster', 'lotus', 'binocular', 'electric_guitar', 'wrench', 'gerenuk', 'rooster', 'chair', 'buddha', 'ceiling_fan', 'ewer', 'soccer_ball', 'inline_skate', 'pagoda', 'emu', 'car_side', 'headphone', 'mayfly', 'mandolin', 'laptop', 'scissors', 'ketch', 'barrel', 'cougar_face', 'umbrella', 'Leopards', 'platypus', 'water_lilly', 'cellphone', 'crab', 'cougar_body', 'lamp', 'ant', 'dolphin', 'bass', 'nautilus', 'accordion', 'pigeon', 'dragonfly', 'hawksbill', 'llama', 'elephant', 'saxophone', 'hedgehog', 'minaret', 'gramophone', 'starfish', 'yin_yang', 'anchor', 'BACKGROUND_Google', 'panda', 'wheelchair', 'trilobite', 'cannon', 'crocodile_head', 'butterfly', 'snoopy', 'ibis', 'crayfish', 'tick', 'pyramid']\n"
          ]
        }
      ]
    },
    {
      "cell_type": "code",
      "source": [
        "import tensorflow as tf\n",
        "from tensorflow import keras\n",
        "import numpy as np\n",
        "from tensorflow.keras.preprocessing.image import ImageDataGenerator\n",
        "from keras.applications import VGG16\n",
        "import matplotlib.pyplot as plt\n",
        "from keras.models import Model\n",
        "from tensorflow.keras.models import Sequential\n",
        "from tensorflow.keras.layers import Dense, Dropout, Activation, Flatten\n",
        "from tensorflow.keras.layers import Conv2D, MaxPooling2D"
      ],
      "metadata": {
        "id": "LMgSCXLSCn4x"
      },
      "execution_count": 4,
      "outputs": []
    },
    {
      "cell_type": "code",
      "source": [
        "datagen=ImageDataGenerator(rescale=1.0/255.,validation_split=0.25)\n"
      ],
      "metadata": {
        "id": "Uxsnu5DEY0kr"
      },
      "execution_count": 34,
      "outputs": []
    },
    {
      "cell_type": "code",
      "source": [
        "tg=datagen.flow_from_directory(dataset_dir,target_size=(64,64),batch_size=2000,class_mode='categorical',subset='training')\n",
        "vg=datagen.flow_from_directory(dataset_dir,target_size=(64,64),batch_size=2000,class_mode='categorical',subset='validation')"
      ],
      "metadata": {
        "colab": {
          "base_uri": "https://localhost:8080/"
        },
        "id": "stB_gZXrZZVO",
        "outputId": "5b6ad44d-e78f-4b39-b7a6-14828252380a"
      },
      "execution_count": 6,
      "outputs": [
        {
          "output_type": "stream",
          "name": "stdout",
          "text": [
            "Found 6903 images belonging to 102 classes.\n",
            "Found 2241 images belonging to 102 classes.\n"
          ]
        }
      ]
    },
    {
      "cell_type": "code",
      "source": [
        "help(VGG16)"
      ],
      "metadata": {
        "colab": {
          "base_uri": "https://localhost:8080/"
        },
        "collapsed": true,
        "id": "HqyxhQLTpHwW",
        "outputId": "c5e9b3eb-2fc9-49cb-8935-fe7c845101a3"
      },
      "execution_count": 36,
      "outputs": [
        {
          "output_type": "stream",
          "name": "stdout",
          "text": [
            "Help on function VGG16 in module keras.src.applications.vgg16:\n",
            "\n",
            "VGG16(include_top=True, weights='imagenet', input_tensor=None, input_shape=None, pooling=None, classes=1000, classifier_activation='softmax', name='vgg16')\n",
            "    Instantiates the VGG16 model.\n",
            "    \n",
            "    Reference:\n",
            "    - [Very Deep Convolutional Networks for Large-Scale Image Recognition](\n",
            "    https://arxiv.org/abs/1409.1556) (ICLR 2015)\n",
            "    \n",
            "    For image classification use cases, see\n",
            "    [this page for detailed examples](\n",
            "      https://keras.io/api/applications/#usage-examples-for-image-classification-models).\n",
            "    \n",
            "    For transfer learning use cases, make sure to read the\n",
            "    [guide to transfer learning & fine-tuning](\n",
            "      https://keras.io/guides/transfer_learning/).\n",
            "    \n",
            "    The default input size for this model is 224x224.\n",
            "    \n",
            "    Note: each Keras Application expects a specific kind of input preprocessing.\n",
            "    For VGG16, call `keras.applications.vgg16.preprocess_input` on your\n",
            "    inputs before passing them to the model.\n",
            "    `vgg16.preprocess_input` will convert the input images from RGB to BGR,\n",
            "    then will zero-center each color channel with respect to the ImageNet\n",
            "    dataset, without scaling.\n",
            "    \n",
            "    Args:\n",
            "        include_top: whether to include the 3 fully-connected\n",
            "            layers at the top of the network.\n",
            "        weights: one of `None` (random initialization),\n",
            "            `\"imagenet\"` (pre-training on ImageNet),\n",
            "            or the path to the weights file to be loaded.\n",
            "        input_tensor: optional Keras tensor\n",
            "            (i.e. output of `layers.Input()`)\n",
            "            to use as image input for the model.\n",
            "        input_shape: optional shape tuple, only to be specified\n",
            "            if `include_top` is `False` (otherwise the input shape\n",
            "            has to be `(224, 224, 3)`\n",
            "            (with `channels_last` data format) or\n",
            "            `(3, 224, 224)` (with `\"channels_first\"` data format).\n",
            "            It should have exactly 3 input channels,\n",
            "            and width and height should be no smaller than 32.\n",
            "            E.g. `(200, 200, 3)` would be one valid value.\n",
            "        pooling: Optional pooling mode for feature extraction\n",
            "            when `include_top` is `False`.\n",
            "            - `None` means that the output of the model will be\n",
            "                the 4D tensor output of the\n",
            "                last convolutional block.\n",
            "            - `avg` means that global average pooling\n",
            "                will be applied to the output of the\n",
            "                last convolutional block, and thus\n",
            "                the output of the model will be a 2D tensor.\n",
            "            - `max` means that global max pooling will\n",
            "                be applied.\n",
            "        classes: optional number of classes to classify images\n",
            "            into, only to be specified if `include_top` is `True`, and\n",
            "            if no `weights` argument is specified.\n",
            "        classifier_activation: A `str` or callable. The activation function to\n",
            "            use on the \"top\" layer. Ignored unless `include_top=True`. Set\n",
            "            `classifier_activation=None` to return the logits of the \"top\"\n",
            "            layer.  When loading pretrained weights, `classifier_activation`\n",
            "            can only be `None` or `\"softmax\"`.\n",
            "        name: The name of the model (string).\n",
            "    \n",
            "    Returns:\n",
            "        A `Model` instance.\n",
            "\n"
          ]
        }
      ]
    },
    {
      "cell_type": "code",
      "source": [
        "x_train,y_train=tg[0]\n",
        "x_test,y_test=vg[0]"
      ],
      "metadata": {
        "id": "hUT0HEPEZTbH"
      },
      "execution_count": 7,
      "outputs": []
    },
    {
      "cell_type": "code",
      "source": [
        "base_model=VGG16(weights='imagenet',include_top=False,input_shape=(64,64,3))"
      ],
      "metadata": {
        "colab": {
          "base_uri": "https://localhost:8080/"
        },
        "id": "4n1aAgndbNHA",
        "outputId": "23d46287-d335-4072-a9a8-4a281438f1bf"
      },
      "execution_count": 8,
      "outputs": [
        {
          "output_type": "stream",
          "name": "stdout",
          "text": [
            "Downloading data from https://storage.googleapis.com/tensorflow/keras-applications/vgg16/vgg16_weights_tf_dim_ordering_tf_kernels_notop.h5\n",
            "\u001b[1m58889256/58889256\u001b[0m \u001b[32m━━━━━━━━━━━━━━━━━━━━\u001b[0m\u001b[37m\u001b[0m \u001b[1m4s\u001b[0m 0us/step\n"
          ]
        }
      ]
    },
    {
      "cell_type": "code",
      "source": [
        "for layer in base_model.layers:\n",
        "    layer.trainable=False"
      ],
      "metadata": {
        "id": "K6DXxtGQbgpi"
      },
      "execution_count": 9,
      "outputs": []
    },
    {
      "cell_type": "code",
      "source": [
        "print(tg.class_indices)"
      ],
      "metadata": {
        "colab": {
          "base_uri": "https://localhost:8080/"
        },
        "id": "5BoHcAvFc1-P",
        "outputId": "2b0e7141-2393-476c-f7f9-9bf7fbece9eb"
      },
      "execution_count": 10,
      "outputs": [
        {
          "output_type": "stream",
          "name": "stdout",
          "text": [
            "{'BACKGROUND_Google': 0, 'Faces': 1, 'Faces_easy': 2, 'Leopards': 3, 'Motorbikes': 4, 'accordion': 5, 'airplanes': 6, 'anchor': 7, 'ant': 8, 'barrel': 9, 'bass': 10, 'beaver': 11, 'binocular': 12, 'bonsai': 13, 'brain': 14, 'brontosaurus': 15, 'buddha': 16, 'butterfly': 17, 'camera': 18, 'cannon': 19, 'car_side': 20, 'ceiling_fan': 21, 'cellphone': 22, 'chair': 23, 'chandelier': 24, 'cougar_body': 25, 'cougar_face': 26, 'crab': 27, 'crayfish': 28, 'crocodile': 29, 'crocodile_head': 30, 'cup': 31, 'dalmatian': 32, 'dollar_bill': 33, 'dolphin': 34, 'dragonfly': 35, 'electric_guitar': 36, 'elephant': 37, 'emu': 38, 'euphonium': 39, 'ewer': 40, 'ferry': 41, 'flamingo': 42, 'flamingo_head': 43, 'garfield': 44, 'gerenuk': 45, 'gramophone': 46, 'grand_piano': 47, 'hawksbill': 48, 'headphone': 49, 'hedgehog': 50, 'helicopter': 51, 'ibis': 52, 'inline_skate': 53, 'joshua_tree': 54, 'kangaroo': 55, 'ketch': 56, 'lamp': 57, 'laptop': 58, 'llama': 59, 'lobster': 60, 'lotus': 61, 'mandolin': 62, 'mayfly': 63, 'menorah': 64, 'metronome': 65, 'minaret': 66, 'nautilus': 67, 'octopus': 68, 'okapi': 69, 'pagoda': 70, 'panda': 71, 'pigeon': 72, 'pizza': 73, 'platypus': 74, 'pyramid': 75, 'revolver': 76, 'rhino': 77, 'rooster': 78, 'saxophone': 79, 'schooner': 80, 'scissors': 81, 'scorpion': 82, 'sea_horse': 83, 'snoopy': 84, 'soccer_ball': 85, 'stapler': 86, 'starfish': 87, 'stegosaurus': 88, 'stop_sign': 89, 'strawberry': 90, 'sunflower': 91, 'tick': 92, 'trilobite': 93, 'umbrella': 94, 'watch': 95, 'water_lilly': 96, 'wheelchair': 97, 'wild_cat': 98, 'windsor_chair': 99, 'wrench': 100, 'yin_yang': 101}\n"
          ]
        }
      ]
    },
    {
      "cell_type": "code",
      "source": [
        "x=Flatten()(base_model.output)\n",
        "x=Dense(64,activation='relu')(x)\n",
        "x=Dense(90,activation='relu')(x)\n",
        "preds=Dense(102,activation='softmax')(x)"
      ],
      "metadata": {
        "id": "vu0gUr-lbwcb"
      },
      "execution_count": 11,
      "outputs": []
    },
    {
      "cell_type": "code",
      "source": [
        "model=Model(inputs=base_model.input,outputs=preds)"
      ],
      "metadata": {
        "id": "Kjxw4UQWdS34"
      },
      "execution_count": 12,
      "outputs": []
    },
    {
      "cell_type": "code",
      "source": [
        "model.compile(optimizer='adam',loss='categorical_crossentropy',metrics=['accuracy'])"
      ],
      "metadata": {
        "id": "8mIQcfJudYXn"
      },
      "execution_count": 13,
      "outputs": []
    },
    {
      "cell_type": "code",
      "source": [
        "history=model.fit(x_train,y_train,validation_data=(x_test,y_test),epochs=10)"
      ],
      "metadata": {
        "colab": {
          "base_uri": "https://localhost:8080/"
        },
        "id": "3JGSqgoSgJ1M",
        "outputId": "6bd1ae5d-18fe-4d12-df2f-3503acc37495"
      },
      "execution_count": 22,
      "outputs": [
        {
          "output_type": "stream",
          "name": "stdout",
          "text": [
            "Epoch 1/10\n",
            "\u001b[1m63/63\u001b[0m \u001b[32m━━━━━━━━━━━━━━━━━━━━\u001b[0m\u001b[37m\u001b[0m \u001b[1m8s\u001b[0m 98ms/step - accuracy: 0.4649 - loss: 2.2429 - val_accuracy: 0.4745 - val_loss: 2.1997\n",
            "Epoch 2/10\n",
            "\u001b[1m63/63\u001b[0m \u001b[32m━━━━━━━━━━━━━━━━━━━━\u001b[0m\u001b[37m\u001b[0m \u001b[1m4s\u001b[0m 41ms/step - accuracy: 0.5658 - loss: 1.7373 - val_accuracy: 0.5515 - val_loss: 1.8530\n",
            "Epoch 3/10\n",
            "\u001b[1m63/63\u001b[0m \u001b[32m━━━━━━━━━━━━━━━━━━━━\u001b[0m\u001b[37m\u001b[0m \u001b[1m3s\u001b[0m 41ms/step - accuracy: 0.6937 - loss: 1.1414 - val_accuracy: 0.5735 - val_loss: 1.8469\n",
            "Epoch 4/10\n",
            "\u001b[1m63/63\u001b[0m \u001b[32m━━━━━━━━━━━━━━━━━━━━\u001b[0m\u001b[37m\u001b[0m \u001b[1m3s\u001b[0m 47ms/step - accuracy: 0.7209 - loss: 1.0019 - val_accuracy: 0.5835 - val_loss: 1.8648\n",
            "Epoch 5/10\n",
            "\u001b[1m63/63\u001b[0m \u001b[32m━━━━━━━━━━━━━━━━━━━━\u001b[0m\u001b[37m\u001b[0m \u001b[1m5s\u001b[0m 48ms/step - accuracy: 0.7859 - loss: 0.7888 - val_accuracy: 0.5975 - val_loss: 1.8864\n",
            "Epoch 6/10\n",
            "\u001b[1m63/63\u001b[0m \u001b[32m━━━━━━━━━━━━━━━━━━━━\u001b[0m\u001b[37m\u001b[0m \u001b[1m3s\u001b[0m 46ms/step - accuracy: 0.8412 - loss: 0.5458 - val_accuracy: 0.5765 - val_loss: 2.1000\n",
            "Epoch 7/10\n",
            "\u001b[1m63/63\u001b[0m \u001b[32m━━━━━━━━━━━━━━━━━━━━\u001b[0m\u001b[37m\u001b[0m \u001b[1m5s\u001b[0m 40ms/step - accuracy: 0.8553 - loss: 0.4867 - val_accuracy: 0.6155 - val_loss: 2.0742\n",
            "Epoch 8/10\n",
            "\u001b[1m63/63\u001b[0m \u001b[32m━━━━━━━━━━━━━━━━━━━━\u001b[0m\u001b[37m\u001b[0m \u001b[1m6s\u001b[0m 48ms/step - accuracy: 0.8753 - loss: 0.4445 - val_accuracy: 0.5600 - val_loss: 2.6715\n",
            "Epoch 9/10\n",
            "\u001b[1m63/63\u001b[0m \u001b[32m━━━━━━━━━━━━━━━━━━━━\u001b[0m\u001b[37m\u001b[0m \u001b[1m5s\u001b[0m 39ms/step - accuracy: 0.8986 - loss: 0.3489 - val_accuracy: 0.6145 - val_loss: 2.3918\n",
            "Epoch 10/10\n",
            "\u001b[1m63/63\u001b[0m \u001b[32m━━━━━━━━━━━━━━━━━━━━\u001b[0m\u001b[37m\u001b[0m \u001b[1m3s\u001b[0m 45ms/step - accuracy: 0.8944 - loss: 0.3661 - val_accuracy: 0.6010 - val_loss: 2.3949\n"
          ]
        }
      ]
    },
    {
      "cell_type": "code",
      "source": [
        "for layer in base_model.layers[-4:]:\n",
        "    layer.trainable=True"
      ],
      "metadata": {
        "id": "bss3USYGgWFn"
      },
      "execution_count": 23,
      "outputs": []
    },
    {
      "cell_type": "code",
      "source": [
        "x=Flatten()(base_model.output)\n",
        "x=Dense(512,activation='relu')(x)\n",
        "x=Dropout(0.1)(x)\n",
        "predictions=Dense(102,activation='softmax')(x)\n"
      ],
      "metadata": {
        "id": "xRoZh3XVhl3v"
      },
      "execution_count": 24,
      "outputs": []
    },
    {
      "cell_type": "code",
      "source": [
        "model = Model(inputs=base_model.input, outputs=predictions)"
      ],
      "metadata": {
        "id": "44MWjsumiXIu"
      },
      "execution_count": 25,
      "outputs": []
    },
    {
      "cell_type": "code",
      "source": [
        "model.compile(optimizer='adam',loss='categorical_crossentropy',metrics=['accuracy'])"
      ],
      "metadata": {
        "id": "dVAH6qupg2rh"
      },
      "execution_count": 26,
      "outputs": []
    },
    {
      "cell_type": "code",
      "source": [
        "hn=model.fit(x_train,y_train,validation_data=(x_test,y_test),epochs=10)"
      ],
      "metadata": {
        "colab": {
          "base_uri": "https://localhost:8080/"
        },
        "id": "NsycKVubg8fy",
        "outputId": "690aaa7a-00a4-4f2a-829a-b400b1d795fe"
      },
      "execution_count": 27,
      "outputs": [
        {
          "output_type": "stream",
          "name": "stdout",
          "text": [
            "Epoch 1/10\n",
            "\u001b[1m63/63\u001b[0m \u001b[32m━━━━━━━━━━━━━━━━━━━━\u001b[0m\u001b[37m\u001b[0m \u001b[1m9s\u001b[0m 93ms/step - accuracy: 0.3988 - loss: 3.3161 - val_accuracy: 0.5410 - val_loss: 2.2459\n",
            "Epoch 2/10\n",
            "\u001b[1m63/63\u001b[0m \u001b[32m━━━━━━━━━━━━━━━━━━━━\u001b[0m\u001b[37m\u001b[0m \u001b[1m2s\u001b[0m 38ms/step - accuracy: 0.8149 - loss: 0.6825 - val_accuracy: 0.5830 - val_loss: 2.1768\n",
            "Epoch 3/10\n",
            "\u001b[1m63/63\u001b[0m \u001b[32m━━━━━━━━━━━━━━━━━━━━\u001b[0m\u001b[37m\u001b[0m \u001b[1m3s\u001b[0m 45ms/step - accuracy: 0.9094 - loss: 0.3347 - val_accuracy: 0.6050 - val_loss: 2.2700\n",
            "Epoch 4/10\n",
            "\u001b[1m63/63\u001b[0m \u001b[32m━━━━━━━━━━━━━━━━━━━━\u001b[0m\u001b[37m\u001b[0m \u001b[1m3s\u001b[0m 45ms/step - accuracy: 0.9505 - loss: 0.1819 - val_accuracy: 0.6020 - val_loss: 2.2960\n",
            "Epoch 5/10\n",
            "\u001b[1m63/63\u001b[0m \u001b[32m━━━━━━━━━━━━━━━━━━━━\u001b[0m\u001b[37m\u001b[0m \u001b[1m3s\u001b[0m 40ms/step - accuracy: 0.9347 - loss: 0.2338 - val_accuracy: 0.6360 - val_loss: 2.3670\n",
            "Epoch 6/10\n",
            "\u001b[1m63/63\u001b[0m \u001b[32m━━━━━━━━━━━━━━━━━━━━\u001b[0m\u001b[37m\u001b[0m \u001b[1m3s\u001b[0m 45ms/step - accuracy: 0.9542 - loss: 0.1933 - val_accuracy: 0.6075 - val_loss: 2.7513\n",
            "Epoch 7/10\n",
            "\u001b[1m63/63\u001b[0m \u001b[32m━━━━━━━━━━━━━━━━━━━━\u001b[0m\u001b[37m\u001b[0m \u001b[1m2s\u001b[0m 39ms/step - accuracy: 0.9398 - loss: 0.3906 - val_accuracy: 0.6005 - val_loss: 2.6497\n",
            "Epoch 8/10\n",
            "\u001b[1m63/63\u001b[0m \u001b[32m━━━━━━━━━━━━━━━━━━━━\u001b[0m\u001b[37m\u001b[0m \u001b[1m2s\u001b[0m 39ms/step - accuracy: 0.9602 - loss: 0.1791 - val_accuracy: 0.6415 - val_loss: 2.4377\n",
            "Epoch 9/10\n",
            "\u001b[1m63/63\u001b[0m \u001b[32m━━━━━━━━━━━━━━━━━━━━\u001b[0m\u001b[37m\u001b[0m \u001b[1m3s\u001b[0m 40ms/step - accuracy: 0.9828 - loss: 0.0911 - val_accuracy: 0.5975 - val_loss: 2.8571\n",
            "Epoch 10/10\n",
            "\u001b[1m63/63\u001b[0m \u001b[32m━━━━━━━━━━━━━━━━━━━━\u001b[0m\u001b[37m\u001b[0m \u001b[1m3s\u001b[0m 40ms/step - accuracy: 0.9714 - loss: 0.1087 - val_accuracy: 0.5780 - val_loss: 3.3945\n"
          ]
        }
      ]
    },
    {
      "cell_type": "code",
      "source": [
        "pred_value=model.predict(x_test)\n",
        "labels=list(vg.class_indices.keys())\n",
        "n=299\n",
        "plt.imshow(x_test[n])\n",
        "print(\"predicted:\",labels[np.argmax(pred_value[n])])\n",
        "print(\"actual:\",labels[np.argmax(y_test[n])])"
      ],
      "metadata": {
        "colab": {
          "base_uri": "https://localhost:8080/",
          "height": 484
        },
        "id": "EtNF4IZ3ib9G",
        "outputId": "cc73c682-9e8e-46b0-f3ea-77f5b8ed68b9"
      },
      "execution_count": 37,
      "outputs": [
        {
          "output_type": "stream",
          "name": "stdout",
          "text": [
            "\u001b[1m63/63\u001b[0m \u001b[32m━━━━━━━━━━━━━━━━━━━━\u001b[0m\u001b[37m\u001b[0m \u001b[1m1s\u001b[0m 13ms/step\n",
            "predicted: starfish\n",
            "actual: starfish\n"
          ]
        },
        {
          "output_type": "display_data",
          "data": {
            "text/plain": [
              "<Figure size 640x480 with 1 Axes>"
            ],
            "image/png": "[encoded data removed]"
          },
          "metadata": {}
        }
      ]
    },
    {
      "cell_type": "code",
      "source": [],
      "metadata": {
        "id": "dnvJlSmplsLx"
      },
      "execution_count": null,
      "outputs": []
    }
  ]
}